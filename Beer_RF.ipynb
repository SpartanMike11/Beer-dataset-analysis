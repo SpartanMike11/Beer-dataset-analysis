{
 "cells": [
  {
   "cell_type": "code",
   "execution_count": 1,
   "metadata": {},
   "outputs": [],
   "source": [
    "#Importing useful libraries\n",
    "import numpy as np\n",
    "import pandas as pd\n",
    "import seaborn as sns\n",
    "import sklearn\n",
    "from sklearn.model_selection import train_test_split\n",
    "from sklearn import metrics\n",
    "from sklearn.metrics import accuracy_score\n",
    "from sklearn.metrics import confusion_matrix\n",
    "from sklearn.metrics import classification_report\n",
    "from sklearn.feature_selection import SelectFromModel\n",
    "from sklearn.ensemble import RandomForestClassifier\n",
    "from sklearn.ensemble import RandomForestRegressor\n",
    "from sklearn.metrics import mean_squared_error"
   ]
  },
  {
   "cell_type": "code",
   "execution_count": 2,
   "metadata": {},
   "outputs": [
    {
     "name": "stdout",
     "output_type": "stream",
     "text": [
      "<class 'pandas.core.frame.DataFrame'>\n",
      "RangeIndex: 5558 entries, 0 to 5557\n",
      "Data columns (total 21 columns):\n",
      " #   Column       Non-Null Count  Dtype  \n",
      "---  ------       --------------  -----  \n",
      " 0   Name         5556 non-null   object \n",
      " 1   key          5558 non-null   int64  \n",
      " 2   Style        5558 non-null   object \n",
      " 3   Style Key    5558 non-null   int64  \n",
      " 4   Brewery      5558 non-null   object \n",
      " 5   Description  5558 non-null   object \n",
      " 6   ABV          5558 non-null   float64\n",
      " 7   Ave Rating   5558 non-null   float64\n",
      " 8   Min IBU      5558 non-null   int64  \n",
      " 9   Max IBU      5558 non-null   int64  \n",
      " 10  Astringency  5558 non-null   int64  \n",
      " 11  Body         5558 non-null   int64  \n",
      " 12  Alcohol      5558 non-null   int64  \n",
      " 13  Bitter       5558 non-null   int64  \n",
      " 14  Sweet        5558 non-null   int64  \n",
      " 15  Sour         5558 non-null   int64  \n",
      " 16  Salty        5558 non-null   int64  \n",
      " 17  Fruits       5558 non-null   int64  \n",
      " 18  Hoppy        5558 non-null   int64  \n",
      " 19  Spices       5558 non-null   int64  \n",
      " 20  Malty        5558 non-null   int64  \n",
      "dtypes: float64(2), int64(15), object(4)\n",
      "memory usage: 912.0+ KB\n"
     ]
    }
   ],
   "source": [
    "df = pd.read_csv('beer_data_set.csv')\n",
    "df.info()"
   ]
  },
  {
   "cell_type": "code",
   "execution_count": 3,
   "metadata": {
    "scrolled": true
   },
   "outputs": [
    {
     "data": {
      "text/plain": [
       "array(['Altbier', 'Barleywine - American', 'Barleywine - English',\n",
       "       'Bitter - English Extra Special / Strong Bitter (ESB)',\n",
       "       'Bitter - English', 'Bière de Champagne / Bière Brut',\n",
       "       'Blonde Ale - American', 'Blonde Ale - Belgian',\n",
       "       'Bock - Doppelbock', 'Bock - Eisbock', 'Bock - Maibock',\n",
       "       'Bock - Traditional', 'Bock - Weizenbock', 'Braggot', 'Brett Beer',\n",
       "       'Brown Ale - American', 'Brown Ale - Belgian Dark',\n",
       "       'Brown Ale - English', 'California Common / Steam Beer',\n",
       "       'Chile Beer', 'Cream Ale', 'Dubbel',\n",
       "       'Farmhouse Ale - Bière de Garde', 'Farmhouse Ale - Sahti',\n",
       "       'Farmhouse Ale - Saison', 'Fruit and Field Beer',\n",
       "       'Gruit / Ancient Herbed Ale', 'Happoshu', 'Herb and Spice Beer',\n",
       "       'IPA - American', 'IPA - Belgian',\n",
       "       'IPA - Black / Cascadian Dark Ale', 'IPA - Brut', 'IPA - English',\n",
       "       'IPA - Imperial', 'IPA - New England', 'Kvass', 'Kölsch',\n",
       "       'Lager - Adjunct', 'Lager - American Amber / Red',\n",
       "       'Lager - American', 'Lager - European / Dortmunder Export',\n",
       "       'Lager - European Dark', 'Lager - European Pale',\n",
       "       'Lager - European Strong', 'Lager - Helles',\n",
       "       'Lager - India Pale Lager (IPL)', 'Lager - Japanese Rice',\n",
       "       'Lager - Kellerbier / Zwickelbier', 'Lager - Light',\n",
       "       'Lager - Malt Liquor', 'Lager - Munich Dunkel',\n",
       "       'Lager - Märzen / Oktoberfest', 'Lager - Rauchbier',\n",
       "       'Lager - Schwarzbier', 'Lager - Vienna', 'Lambic - Faro',\n",
       "       'Lambic - Fruit', 'Lambic - Gueuze', 'Lambic - Traditional',\n",
       "       'Low Alcohol Beer', 'Mild Ale - English Dark',\n",
       "       'Mild Ale - English Pale', 'Old Ale', 'Pale Ale - American',\n",
       "       'Pale Ale - Belgian', 'Pale Ale - English',\n",
       "       'Pilsner - Bohemian / Czech', 'Pilsner - German',\n",
       "       'Pilsner - Imperial', 'Porter - American', 'Porter - Baltic',\n",
       "       'Porter - English', 'Porter - Imperial', 'Porter - Robust',\n",
       "       'Porter - Smoked', 'Pumpkin Beer', 'Quadrupel (Quad)',\n",
       "       'Red Ale - American Amber / Red', 'Red Ale - Imperial',\n",
       "       'Red Ale - Irish', 'Rye Beer - Roggenbier', 'Rye Beer',\n",
       "       'Scotch Ale / Wee Heavy', 'Scottish Ale', 'Smoked Beer',\n",
       "       'Sour - Berliner Weisse', 'Sour - Flanders Oud Bruin',\n",
       "       'Sour - Flanders Red Ale', 'Sour - Gose',\n",
       "       'Stout - American Imperial', 'Stout - American', 'Stout - English',\n",
       "       'Stout - Foreign / Export', 'Stout - Irish Dry', 'Stout - Oatmeal',\n",
       "       'Stout - Russian Imperial', 'Stout - Sweet / Milk',\n",
       "       'Strong Ale - American', 'Strong Ale - Belgian Dark',\n",
       "       'Strong Ale - Belgian Pale', 'Strong Ale - English', 'Tripel',\n",
       "       'Wheat Beer - American Dark', 'Wheat Beer - American Pale',\n",
       "       'Wheat Beer - Dunkelweizen', 'Wheat Beer - Hefeweizen',\n",
       "       'Wheat Beer - Kristallweizen', 'Wheat Beer - Wheatwine',\n",
       "       'Wheat Beer - Witbier', 'Wild Ale', 'Winter Warmer'], dtype=object)"
      ]
     },
     "execution_count": 3,
     "metadata": {},
     "output_type": "execute_result"
    }
   ],
   "source": [
    "df[\"Style\"].unique()"
   ]
  },
  {
   "cell_type": "code",
   "execution_count": 4,
   "metadata": {},
   "outputs": [
    {
     "data": {
      "text/plain": [
       "43"
      ]
     },
     "execution_count": 4,
     "metadata": {},
     "output_type": "execute_result"
    }
   ],
   "source": [
    "df['Style'] = np.where((df['Style'].str.contains(\"Lager\")),'Lager',df['Style'])\n",
    "df['Style'] = np.where((df['Style'].str.contains(\"Barleywine\")),'Barleywine',df['Style'])\n",
    "df['Style'] = np.where((df['Style'].str.contains(\"Bitter\")),'Bitter',df['Style'])\n",
    "df['Style'] = np.where((df['Style'].str.contains(\"Blonde Ale\")),'Blonde Ale',df['Style'])\n",
    "df['Style'] = np.where((df['Style'].str.contains(\"Bock\")),'Bock',df['Style'])\n",
    "df['Style'] = np.where((df['Style'].str.contains(\"Brown Ale\")),'Brown Ale',df['Style'])\n",
    "df['Style'] = np.where((df['Style'].str.contains(\"Farmhouse Ale\")),'Farmhouse Ale',df['Style'])\n",
    "df['Style'] = np.where((df['Style'].str.contains(\"IPA\")),'IPA',df['Style'])\n",
    "df['Style'] = np.where((df['Style'].str.contains(\"Lambic\")),'Lambic',df['Style'])\n",
    "df['Style'] = np.where((df['Style'].str.contains(\"Mild Ale\")),'Mild Ale',df['Style'])\n",
    "df['Style'] = np.where((df['Style'].str.contains(\"Pale Ale\")),'Pale Ale',df['Style'])\n",
    "df['Style'] = np.where((df['Style'].str.contains(\"Pilsner\")),'Pilsner',df['Style'])\n",
    "df['Style'] = np.where((df['Style'].str.contains(\"Porter\")),'Porter',df['Style'])\n",
    "df['Style'] = np.where((df['Style'].str.contains(\"Red Ale\")),'Red Ale',df['Style'])\n",
    "df['Style'] = np.where((df['Style'].str.contains(\"Rye Beer\")),'Rye Beer',df['Style'])\n",
    "df['Style'] = np.where((df['Style'].str.contains(\"Sour\")),'Sour',df['Style'])\n",
    "df['Style'] = np.where((df['Style'].str.contains(\"Stout\")),'Stout',df['Style'])\n",
    "df['Style'] = np.where((df['Style'].str.contains(\"Strong Ale\")),'Strong Ale',df['Style'])\n",
    "df['Style'] = np.where((df['Style'].str.contains(\"Wheat Beer\")),'Wheat Beer',df['Style'])\n",
    "\n",
    "\n",
    "len(df[\"Style\"].unique())"
   ]
  },
  {
   "cell_type": "code",
   "execution_count": 5,
   "metadata": {},
   "outputs": [
    {
     "name": "stdout",
     "output_type": "stream",
     "text": [
      "<class 'pandas.core.frame.DataFrame'>\n",
      "RangeIndex: 5558 entries, 0 to 5557\n",
      "Data columns (total 16 columns):\n",
      " #   Column       Non-Null Count  Dtype  \n",
      "---  ------       --------------  -----  \n",
      " 0   Style        5558 non-null   object \n",
      " 1   ABV          5558 non-null   float64\n",
      " 2   Ave Rating   5558 non-null   float64\n",
      " 3   Min IBU      5558 non-null   int64  \n",
      " 4   Max IBU      5558 non-null   int64  \n",
      " 5   Astringency  5558 non-null   int64  \n",
      " 6   Body         5558 non-null   int64  \n",
      " 7   Alcohol      5558 non-null   int64  \n",
      " 8   Bitter       5558 non-null   int64  \n",
      " 9   Sweet        5558 non-null   int64  \n",
      " 10  Sour         5558 non-null   int64  \n",
      " 11  Salty        5558 non-null   int64  \n",
      " 12  Fruits       5558 non-null   int64  \n",
      " 13  Hoppy        5558 non-null   int64  \n",
      " 14  Spices       5558 non-null   int64  \n",
      " 15  Malty        5558 non-null   int64  \n",
      "dtypes: float64(2), int64(13), object(1)\n",
      "memory usage: 694.9+ KB\n"
     ]
    }
   ],
   "source": [
    "df.drop(columns=['Name','key', 'Style Key', 'Brewery', 'Description'], inplace=True)\n",
    "df.info()"
   ]
  },
  {
   "cell_type": "code",
   "execution_count": 6,
   "metadata": {},
   "outputs": [],
   "source": [
    "X = df.drop(columns='Style')\n",
    "y = df['Style']\n",
    "X_train, X_test, y_train, y_test = train_test_split(X, y, test_size=.20, random_state=0)"
   ]
  },
  {
   "cell_type": "code",
   "execution_count": 7,
   "metadata": {},
   "outputs": [
    {
     "name": "stdout",
     "output_type": "stream",
     "text": [
      "Accuracy score:  0.8597122302158273\n"
     ]
    }
   ],
   "source": [
    "rf = RandomForestClassifier(n_estimators=500, random_state=42)\n",
    "rf.fit(X_train, y_train)\n",
    "y_pred = rf.predict(X_test)\n",
    "print('Accuracy score: ', accuracy_score(y_test, y_pred))"
   ]
  },
  {
   "cell_type": "code",
   "execution_count": 8,
   "metadata": {},
   "outputs": [
    {
     "name": "stdout",
     "output_type": "stream",
     "text": [
      "                                 precision    recall  f1-score   support\n",
      "\n",
      "                        Altbier       1.00      0.86      0.92        14\n",
      "                     Barleywine       0.94      0.89      0.91        18\n",
      "                         Bitter       0.95      0.90      0.92        20\n",
      "Bière de Champagne / Bière Brut       0.86      0.86      0.86         7\n",
      "                     Blonde Ale       0.88      0.74      0.80        19\n",
      "                           Bock       0.85      0.85      0.85        59\n",
      "                        Braggot       0.62      0.56      0.59         9\n",
      "                     Brett Beer       0.80      1.00      0.89         8\n",
      "                      Brown Ale       0.84      0.62      0.71        34\n",
      " California Common / Steam Beer       1.00      1.00      1.00         7\n",
      "                     Chile Beer       1.00      1.00      1.00         8\n",
      "                      Cream Ale       0.90      0.75      0.82        12\n",
      "                         Dubbel       1.00      0.80      0.89        10\n",
      "                  Farmhouse Ale       0.71      0.81      0.76        27\n",
      "           Fruit and Field Beer       1.00      0.85      0.92        13\n",
      "     Gruit / Ancient Herbed Ale       0.62      0.71      0.67         7\n",
      "                       Happoshu       1.00      0.78      0.88         9\n",
      "            Herb and Spice Beer       0.89      1.00      0.94         8\n",
      "                            IPA       0.99      0.96      0.97        75\n",
      "                          Kvass       1.00      1.00      1.00        11\n",
      "                         Kölsch       0.83      0.56      0.67         9\n",
      "                          Lager       0.78      0.94      0.85       186\n",
      "                         Lambic       1.00      1.00      1.00        31\n",
      "               Low Alcohol Beer       1.00      1.00      1.00         9\n",
      "                       Mild Ale       0.93      0.64      0.76        22\n",
      "                        Old Ale       1.00      1.00      1.00         7\n",
      "                       Pale Ale       0.84      0.64      0.73        25\n",
      "                        Pilsner       0.77      0.86      0.81        28\n",
      "                         Porter       0.79      0.79      0.79        67\n",
      "                   Pumpkin Beer       0.90      1.00      0.95         9\n",
      "               Quadrupel (Quad)       0.80      0.80      0.80        10\n",
      "                        Red Ale       0.97      0.71      0.82        45\n",
      "                       Rye Beer       1.00      0.82      0.90        17\n",
      "         Scotch Ale / Wee Heavy       0.82      0.90      0.86        10\n",
      "                   Scottish Ale       1.00      0.83      0.91         6\n",
      "                    Smoked Beer       0.56      0.71      0.63         7\n",
      "                           Sour       1.00      0.96      0.98        27\n",
      "                          Stout       0.86      0.89      0.88        85\n",
      "                     Strong Ale       0.78      0.78      0.78        46\n",
      "                         Tripel       0.55      0.60      0.57        10\n",
      "                     Wheat Beer       0.91      0.97      0.94        66\n",
      "                       Wild Ale       1.00      1.00      1.00        10\n",
      "                  Winter Warmer       0.83      1.00      0.91         5\n",
      "\n",
      "                       accuracy                           0.86      1112\n",
      "                      macro avg       0.88      0.84      0.86      1112\n",
      "                   weighted avg       0.87      0.86      0.86      1112\n",
      "\n"
     ]
    }
   ],
   "source": [
    "print(classification_report(y_test, y_pred))"
   ]
  },
  {
   "cell_type": "code",
   "execution_count": 10,
   "metadata": {},
   "outputs": [],
   "source": [
    "X2 = pd.get_dummies(df[\"Style\"], drop_first=True)\n",
    "X2 = X.drop(columns = 'Ave Rating')\n",
    "y2 = df['Ave Rating']"
   ]
  },
  {
   "cell_type": "code",
   "execution_count": 11,
   "metadata": {
    "scrolled": true
   },
   "outputs": [
    {
     "data": {
      "text/plain": [
       "RandomForestRegressor(random_state=99)"
      ]
     },
     "execution_count": 11,
     "metadata": {},
     "output_type": "execute_result"
    }
   ],
   "source": [
    "X2_train, X2_test, y2_train, y2_test = train_test_split(X2, y2, test_size=.20, random_state=0)\n",
    "rf2 = RandomForestRegressor(n_estimators=100, random_state = 99)\n",
    "rf2.fit(X2_train, y2_train)"
   ]
  },
  {
   "cell_type": "code",
   "execution_count": 12,
   "metadata": {},
   "outputs": [],
   "source": [
    "prediction = rf2.predict(X2_test)\n",
    "mse = mean_squared_error(y2_test, prediction)\n",
    "rmse = mse**.5"
   ]
  },
  {
   "cell_type": "code",
   "execution_count": 13,
   "metadata": {},
   "outputs": [
    {
     "name": "stdout",
     "output_type": "stream",
     "text": [
      "MSE:  0.07906668730067769\n",
      "RMSE: 0.28118799281028645\n"
     ]
    },
    {
     "data": {
      "text/plain": [
       "count    5558.000000\n",
       "mean        3.760239\n",
       "std         0.442951\n",
       "min         1.270000\n",
       "25%         3.590000\n",
       "50%         3.820000\n",
       "75%         4.040000\n",
       "max         4.830000\n",
       "Name: Ave Rating, dtype: float64"
      ]
     },
     "execution_count": 13,
     "metadata": {},
     "output_type": "execute_result"
    }
   ],
   "source": [
    "print(\"MSE: \", mse)\n",
    "print(\"RMSE:\", rmse)\n",
    "df['Ave Rating'].describe()"
   ]
  }
 ],
 "metadata": {
  "kernelspec": {
   "display_name": "Python 3",
   "language": "python",
   "name": "python3"
  },
  "language_info": {
   "codemirror_mode": {
    "name": "ipython",
    "version": 3
   },
   "file_extension": ".py",
   "mimetype": "text/x-python",
   "name": "python",
   "nbconvert_exporter": "python",
   "pygments_lexer": "ipython3",
   "version": "3.7.3"
  }
 },
 "nbformat": 4,
 "nbformat_minor": 2
}
